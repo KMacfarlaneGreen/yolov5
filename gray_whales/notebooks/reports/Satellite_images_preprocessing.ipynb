{
 "cells": [
  {
   "cell_type": "code",
   "execution_count": 1,
   "id": "c400dfd9",
   "metadata": {},
   "outputs": [],
   "source": [
    "import numpy as np\n",
    "import matplotlib.pyplot as plt\n",
    "from matplotlib.pyplot import imshow\n",
    "import matplotlib.patches as patches\n",
    "%matplotlib inline\n",
    "import json\n",
    "import glob\n",
    "import numpy as np\n",
    "from PIL import Image\n",
    "import rasterio\n",
    "from rasterio.mask import mask\n",
    "from rasterio.plot import reshape_as_image\n",
    "from rasterio.plot import show_hist\n",
    "#from scipy.misc import imsave\n",
    "from imageio import imwrite\n",
    "from sklearn.cluster import DBSCAN\n",
    "from shapely.geometry import box\n",
    "Image.MAX_IMAGE_PIXELS = None\n",
    "import tifffile as tiff"
   ]
  },
  {
   "cell_type": "code",
   "execution_count": 2,
   "id": "7e0df81f",
   "metadata": {},
   "outputs": [],
   "source": [
    "from src.preprocessing.visualisation import plot_rgb_hist, plot_rgb_boxes\n",
    "from src.preprocessing.normalization import rgb_array, max_norm, perc_norm"
   ]
  },
  {
   "cell_type": "code",
   "execution_count": 3,
   "id": "3e06f574",
   "metadata": {},
   "outputs": [],
   "source": [
    "liebre1_image_path = \"/gws/nopw/j04/ai4er/users/kmgreen/data/liebrepansharp.tif\"\n",
    "liebre1_box_path = \"/gws/nopw/j04/ai4er/users/kmgreen/data/liebre1_boxes.geojson\""
   ]
  },
  {
   "cell_type": "markdown",
   "id": "1dddb48d",
   "metadata": {},
   "source": [
    "## Liebre image 1"
   ]
  },
  {
   "cell_type": "markdown",
   "id": "f225a250",
   "metadata": {},
   "source": [
    "Normalize image array using to 0-255 using the 95th percentile as the maximum scaling value."
   ]
  },
  {
   "cell_type": "code",
   "execution_count": null,
   "id": "74ef1bc3",
   "metadata": {},
   "outputs": [],
   "source": [
    "rgb_perc_norm = perc_norm(liebre1_image_path)"
   ]
  },
  {
   "cell_type": "code",
   "execution_count": null,
   "id": "533c736a",
   "metadata": {},
   "outputs": [],
   "source": [
    "plot_rgb_hist(rgb_perc_norm, 255)"
   ]
  },
  {
   "cell_type": "code",
   "execution_count": null,
   "id": "b3821c79",
   "metadata": {},
   "outputs": [],
   "source": [
    "uint8_perc_norm = np.uint8(rgb_perc_norm)"
   ]
  },
  {
   "cell_type": "code",
   "execution_count": null,
   "id": "8d6feea0",
   "metadata": {},
   "outputs": [],
   "source": [
    "plot_rgb_boxes(liebre1_image_path, liebre1_box_path, uint8_perc_norm)"
   ]
  },
  {
   "cell_type": "code",
   "execution_count": null,
   "id": "b33cbaa0",
   "metadata": {},
   "outputs": [],
   "source": [
    "from src.preprocessing.satellitedataprocessing import convert_coords, save_files, read_coords, get_bbox_info, get_nonwhale_bbox_info"
   ]
  },
  {
   "cell_type": "code",
   "execution_count": null,
   "id": "817bf255",
   "metadata": {},
   "outputs": [],
   "source": [
    "image = Image.fromarray(uint8_perc_norm)\n",
    "geo_image = rasterio.open(liebre1_image_path)"
   ]
  },
  {
   "cell_type": "code",
   "execution_count": null,
   "id": "f917e68c",
   "metadata": {},
   "outputs": [],
   "source": [
    "info = get_bbox_info(liebre1_box_path, image, geo_image)"
   ]
  },
  {
   "cell_type": "code",
   "execution_count": null,
   "id": "f54a3131",
   "metadata": {},
   "outputs": [],
   "source": [
    "file_save_path = \"/gws/nopw/j04/ai4er/users/kmgreen/data/cropped_images\""
   ]
  },
  {
   "cell_type": "code",
   "execution_count": null,
   "id": "9e3592ef",
   "metadata": {},
   "outputs": [],
   "source": [
    "#save_files(image, info, file_save_path, 'liebre1')"
   ]
  },
  {
   "cell_type": "code",
   "execution_count": null,
   "id": "9eb34086",
   "metadata": {},
   "outputs": [],
   "source": [
    "#Visualise some of the saved files:\n",
    "cropped_image_path = \"/gws/nopw/j04/ai4er/users/kmgreen/data/cropped_images/liebre1_7.png\"\n",
    "cropped_label_path = \"/gws/nopw/j04/ai4er/users/kmgreen/data/cropped_images/liebre1_7.txt\""
   ]
  },
  {
   "cell_type": "code",
   "execution_count": null,
   "id": "e160f6c0",
   "metadata": {},
   "outputs": [],
   "source": [
    "cropped_image = Image.open(cropped_image_path)"
   ]
  },
  {
   "cell_type": "code",
   "execution_count": null,
   "id": "dff4860d",
   "metadata": {},
   "outputs": [],
   "source": [
    "fig, ax = plt.subplots(figsize = (8,11))\n",
    "ax.xaxis.tick_top()\n",
    "ax.imshow(cropped_image)\n",
    "\n",
    "for i in range(0,boxes.shape[0]):\n",
    "    x = (boxes[1][i] - boxes[3][i]*0.5)*cropped_image.size[0]\n",
    "    y = (boxes[2][i] - boxes[4][i]*0.5)*cropped_image.size[1]\n",
    "    w = boxes[3][i] * cropped_image.size[0]\n",
    "    h = boxes[4][i] * cropped_image.size[1]\n",
    "    ax.add_patch(patches.Rectangle((x,y),w,h, fill=False, edgecolor='red', lw=2))\n",
    "\n",
    "plt.show()\n",
    "\n"
   ]
  },
  {
   "cell_type": "markdown",
   "id": "fba8dc4b",
   "metadata": {},
   "source": [
    "## Liebre 2 Image "
   ]
  },
  {
   "cell_type": "code",
   "execution_count": null,
   "id": "9637b440",
   "metadata": {},
   "outputs": [],
   "source": [
    "liebre2_image_path = \"/gws/nopw/j04/ai4er/users/kmgreen/data/liebre2pansharp.tif\"\n",
    "liebre2_box_path = \"/gws/nopw/j04/ai4er/users/kmgreen/data/liebre2_boxes.geojson\""
   ]
  },
  {
   "cell_type": "code",
   "execution_count": null,
   "id": "805812db",
   "metadata": {},
   "outputs": [],
   "source": [
    "rgb_perc_norm_l2 = perc_norm(liebre2_image_path)"
   ]
  },
  {
   "cell_type": "code",
   "execution_count": null,
   "id": "640bcbd1",
   "metadata": {},
   "outputs": [],
   "source": [
    "uint8_perc_norm_l2 = np.uint8(rgb_perc_norm_l2)"
   ]
  },
  {
   "cell_type": "code",
   "execution_count": null,
   "id": "2cb43525",
   "metadata": {},
   "outputs": [],
   "source": [
    "image_l2 = Image.fromarray(uint8_perc_norm_l2)\n",
    "geo_image_l2 = rasterio.open(liebre2_image_path)"
   ]
  },
  {
   "cell_type": "code",
   "execution_count": null,
   "id": "d78f26d4",
   "metadata": {},
   "outputs": [],
   "source": [
    "info_l2 = get_bbox_info(liebre2_box_path, image_l2, geo_image_l2)"
   ]
  },
  {
   "cell_type": "code",
   "execution_count": null,
   "id": "fb4f39be",
   "metadata": {},
   "outputs": [],
   "source": [
    "#save_files(image_l2, info_l2, file_save_path, 'liebre2')"
   ]
  },
  {
   "cell_type": "code",
   "execution_count": null,
   "id": "478885e8",
   "metadata": {},
   "outputs": [],
   "source": [
    "#Visualise some of the saved files:\n",
    "cropped_image_path = \"/gws/nopw/j04/ai4er/users/kmgreen/data/cropped_images/liebre2_13.png\"\n",
    "cropped_label_path = \"/gws/nopw/j04/ai4er/users/kmgreen/data/cropped_images/liebre2_13.txt\""
   ]
  },
  {
   "cell_type": "code",
   "execution_count": null,
   "id": "c645f590",
   "metadata": {},
   "outputs": [],
   "source": [
    "import pandas as pd \n",
    "boxes = pd.read_csv(cropped_label_path, sep=\" \", header=None)\n",
    "boxes"
   ]
  },
  {
   "cell_type": "code",
   "execution_count": null,
   "id": "3e2cdb08",
   "metadata": {},
   "outputs": [],
   "source": [
    "cropped_image = Image.open(cropped_image_path)"
   ]
  },
  {
   "cell_type": "code",
   "execution_count": null,
   "id": "2e18b899",
   "metadata": {},
   "outputs": [],
   "source": [
    "fig, ax = plt.subplots(figsize = (8,11))\n",
    "ax.xaxis.tick_top()\n",
    "ax.imshow(cropped_image)\n",
    "\n",
    "for i in range(0,boxes.shape[0]):\n",
    "    x = (boxes[1][i] - boxes[3][i]*0.5)*cropped_image.size[0]\n",
    "    y = (boxes[2][i] - boxes[4][i]*0.5)*cropped_image.size[1]\n",
    "    w = boxes[3][i] * cropped_image.size[0]\n",
    "    h = boxes[4][i] * cropped_image.size[1]\n",
    "    ax.add_patch(patches.Rectangle((x,y),w,h, fill=False, edgecolor='red', lw=2))\n",
    "\n",
    "plt.show()\n",
    "\n"
   ]
  },
  {
   "cell_type": "markdown",
   "id": "a3cc32e0",
   "metadata": {},
   "source": [
    "## San Ignacio Image"
   ]
  },
  {
   "cell_type": "code",
   "execution_count": null,
   "id": "fb75235f",
   "metadata": {},
   "outputs": [],
   "source": [
    "file_save_path_si = \"/gws/nopw/j04/ai4er/users/kmgreen/data/norm_im_test\""
   ]
  },
  {
   "cell_type": "code",
   "execution_count": null,
   "id": "9fa23e4b",
   "metadata": {},
   "outputs": [],
   "source": [
    "sanig_image_path = \"/gws/nopw/j04/ai4er/users/kmgreen/data/sanig_crop_final.tif\"\n",
    "sanig_box_path = \"/gws/nopw/j04/ai4er/users/kmgreen/data/sanig_boxes.geojson\""
   ]
  },
  {
   "cell_type": "code",
   "execution_count": null,
   "id": "54360b7a",
   "metadata": {},
   "outputs": [],
   "source": [
    "import geopandas\n",
    "boxes = geopandas.read_file(sanig_box_path)\n",
    "boxes.head(13)"
   ]
  },
  {
   "cell_type": "code",
   "execution_count": null,
   "id": "8dc20205",
   "metadata": {},
   "outputs": [],
   "source": [
    "rgb_perc_norm_si = perc_norm(sanig_image_path)"
   ]
  },
  {
   "cell_type": "code",
   "execution_count": null,
   "id": "ec73a2a5",
   "metadata": {},
   "outputs": [],
   "source": [
    "uint8_perc_norm_si = np.uint8(rgb_perc_norm_si)"
   ]
  },
  {
   "cell_type": "code",
   "execution_count": null,
   "id": "0239af71",
   "metadata": {},
   "outputs": [],
   "source": [
    "print(uint8_perc_norm_si.dtype)"
   ]
  },
  {
   "cell_type": "code",
   "execution_count": null,
   "id": "f48c8a78",
   "metadata": {},
   "outputs": [],
   "source": [
    "plot_rgb_boxes(sanig_image_path, sanig_box_path, uint8_perc_norm_si)"
   ]
  },
  {
   "cell_type": "code",
   "execution_count": null,
   "id": "528befc3",
   "metadata": {},
   "outputs": [],
   "source": [
    "plot_rgb_hist(rgb_perc_norm_si, 255)"
   ]
  },
  {
   "cell_type": "code",
   "execution_count": null,
   "id": "c08488be",
   "metadata": {},
   "outputs": [],
   "source": [
    "image_si = Image.fromarray(uint8_perc_norm_si)\n",
    "geo_image_si = rasterio.open(sanig_image_path)"
   ]
  },
  {
   "cell_type": "code",
   "execution_count": null,
   "id": "4984272a",
   "metadata": {},
   "outputs": [],
   "source": [
    "info_si = get_bbox_info(sanig_box_path, image_si, geo_image_si)"
   ]
  },
  {
   "cell_type": "code",
   "execution_count": null,
   "id": "66f602a7",
   "metadata": {},
   "outputs": [],
   "source": [
    "save_files(image_si, info_si, file_save_path_si, 'sanig')"
   ]
  },
  {
   "cell_type": "code",
   "execution_count": null,
   "id": "01f6af8f",
   "metadata": {},
   "outputs": [],
   "source": [
    "print(type(image_si))"
   ]
  },
  {
   "cell_type": "code",
   "execution_count": null,
   "id": "0d3e3c7a",
   "metadata": {},
   "outputs": [],
   "source": [
    "#Visualise some of the saved files:\n",
    "cropped_image_path = \"/gws/nopw/j04/ai4er/users/kmgreen/data/norm_im_test/sanig_10.png\"\n",
    "cropped_label_path = \"/gws/nopw/j04/ai4er/users/kmgreen/data/norm_im_test/sanig_10.txt\""
   ]
  },
  {
   "cell_type": "code",
   "execution_count": null,
   "id": "eb5325cc",
   "metadata": {},
   "outputs": [],
   "source": [
    "cropped_image = Image.open(cropped_image_path)"
   ]
  },
  {
   "cell_type": "code",
   "execution_count": null,
   "id": "08b25fe9",
   "metadata": {},
   "outputs": [],
   "source": [
    "import pandas as pd \n",
    "boxes = pd.read_csv(cropped_label_path, sep=\" \", header=None)\n",
    "boxes"
   ]
  },
  {
   "cell_type": "code",
   "execution_count": null,
   "id": "845c90c9",
   "metadata": {},
   "outputs": [],
   "source": [
    "fig, ax = plt.subplots(figsize = (8,11))\n",
    "ax.xaxis.tick_top()\n",
    "ax.imshow(cropped_image)\n",
    "\n",
    "for i in range(0,boxes.shape[0]):\n",
    "    x = (boxes[1][i] - boxes[3][i]*0.5)*cropped_image.size[0]\n",
    "    y = (boxes[2][i] - boxes[4][i]*0.5)*cropped_image.size[1]\n",
    "    w = boxes[3][i] * cropped_image.size[0]\n",
    "    h = boxes[4][i] * cropped_image.size[1]\n",
    "    ax.add_patch(patches.Rectangle((x,y),w,h, fill=False, edgecolor='red', lw=2))\n",
    "\n",
    "plt.show()"
   ]
  },
  {
   "cell_type": "markdown",
   "id": "94aff78d",
   "metadata": {},
   "source": [
    "## San Ignacio Test Image"
   ]
  },
  {
   "cell_type": "markdown",
   "id": "c6d1ca96",
   "metadata": {},
   "source": [
    "### Whales Image"
   ]
  },
  {
   "cell_type": "code",
   "execution_count": null,
   "id": "31211d4d",
   "metadata": {},
   "outputs": [],
   "source": [
    "sanig2_whales_image_path = \"/gws/nopw/j04/ai4er/users/kmgreen/data/sanig2_test_whales.tif\"\n",
    "sanig2_whales_box_path = \"/gws/nopw/j04/ai4er/users/kmgreen/data/sanig2_test_whales.geojson\""
   ]
  },
  {
   "cell_type": "code",
   "execution_count": null,
   "id": "b8177cee",
   "metadata": {},
   "outputs": [],
   "source": [
    "#Export shapefiles to a geojson with bounding box\n",
    "import geopandas\n",
    "sanig2_whales_shp_path = \"/gws/nopw/j04/ai4er/users/kmgreen/data/sanig2_test_whales.shp\"\n",
    "sanig2_box_shpfile = geopandas.read_file(sanig2_whales_shp_path)\n",
    "#sanig2_box_shpfile.to_file('/gws/nopw/j04/ai4er/users/kmgreen/data/sanig2_test_whales.geojson', driver='GeoJSON')"
   ]
  },
  {
   "cell_type": "code",
   "execution_count": null,
   "id": "f316b617",
   "metadata": {},
   "outputs": [],
   "source": [
    "rgb_perc_norm_si2 = perc_norm(sanig2_whales_image_path)"
   ]
  },
  {
   "cell_type": "code",
   "execution_count": null,
   "id": "348ca6bd",
   "metadata": {},
   "outputs": [],
   "source": [
    "plot_rgb_hist(rgb_perc_norm_si2, 255)"
   ]
  },
  {
   "cell_type": "code",
   "execution_count": null,
   "id": "5f052841",
   "metadata": {},
   "outputs": [],
   "source": [
    "#plot_rgb_hist(rgb_array(sanig2_whales_image_path), 63357)"
   ]
  },
  {
   "cell_type": "code",
   "execution_count": null,
   "id": "232f4c23",
   "metadata": {},
   "outputs": [],
   "source": [
    "uint8_perc_norm_si2 = np.uint8(rgb_perc_norm_si2)"
   ]
  },
  {
   "cell_type": "code",
   "execution_count": null,
   "id": "f8121826",
   "metadata": {},
   "outputs": [],
   "source": [
    "plot_rgb_boxes(sanig2_whales_image_path, sanig2_whales_box_path, uint8_perc_norm_si2)"
   ]
  },
  {
   "cell_type": "code",
   "execution_count": null,
   "id": "5a8cce4b",
   "metadata": {},
   "outputs": [],
   "source": [
    "image_si2 = Image.fromarray(uint8_perc_norm_si2)\n",
    "geo_image_si2 = rasterio.open(sanig2_whales_image_path)"
   ]
  },
  {
   "cell_type": "code",
   "execution_count": null,
   "id": "2e14bf78",
   "metadata": {},
   "outputs": [],
   "source": [
    "info_si2 = get_bbox_info(sanig2_whales_box_path, image_si2, geo_image_si2)"
   ]
  },
  {
   "cell_type": "code",
   "execution_count": null,
   "id": "51311832",
   "metadata": {},
   "outputs": [],
   "source": [
    "file_save_path = \"/gws/nopw/j04/ai4er/users/kmgreen/data/yolo_boats/test/images\""
   ]
  },
  {
   "cell_type": "code",
   "execution_count": null,
   "id": "934119c6",
   "metadata": {},
   "outputs": [],
   "source": [
    "save_files(image_si2, info_si2, file_save_path, 'sanig2')"
   ]
  },
  {
   "cell_type": "markdown",
   "id": "71fb9154",
   "metadata": {},
   "source": [
    "### Boats"
   ]
  },
  {
   "cell_type": "code",
   "execution_count": null,
   "id": "f9b27884",
   "metadata": {},
   "outputs": [],
   "source": [
    "sanig2_boats_image_path = \"/gws/nopw/j04/ai4er/users/kmgreen/data/sanig2_test_boats3.tif\"\n",
    "sanig2_boats_box_path = \"/gws/nopw/j04/ai4er/users/kmgreen/data/sanig2_test_boats.geojson\""
   ]
  },
  {
   "cell_type": "code",
   "execution_count": null,
   "id": "f5f14d67",
   "metadata": {},
   "outputs": [],
   "source": [
    "#Export shapefiles to a geojson with bounding box\n",
    "#sanig2_boats_shp_path = \"/gws/nopw/j04/ai4er/users/kmgreen/data/sanig2_test_boats.shp\"\n",
    "#sanig2_boats_box_shpfile = geopandas.read_file(sanig2_boats_shp_path)\n",
    "#sanig2_boats_box_shpfile.to_file('/gws/nopw/j04/ai4er/users/kmgreen/data/sanig2_test_boats.geojson', driver='GeoJSON')"
   ]
  },
  {
   "cell_type": "code",
   "execution_count": null,
   "id": "76a177d5",
   "metadata": {},
   "outputs": [],
   "source": [
    "rgb_perc_norm_si2b = perc_norm(sanig2_boats_image_path)"
   ]
  },
  {
   "cell_type": "code",
   "execution_count": null,
   "id": "b368530b",
   "metadata": {},
   "outputs": [],
   "source": [
    "plot_rgb_hist(rgb_perc_norm_si2b, 255)"
   ]
  },
  {
   "cell_type": "code",
   "execution_count": null,
   "id": "69d59d18",
   "metadata": {},
   "outputs": [],
   "source": [
    "uint8_perc_norm_si2b = np.uint8(rgb_perc_norm_si2b)"
   ]
  },
  {
   "cell_type": "code",
   "execution_count": null,
   "id": "0b06730d",
   "metadata": {},
   "outputs": [],
   "source": [
    "plot_rgb_boxes(sanig2_boats_image_path, sanig2_boats_box_path, uint8_perc_norm_si2b)"
   ]
  },
  {
   "cell_type": "code",
   "execution_count": null,
   "id": "152f8e74",
   "metadata": {},
   "outputs": [],
   "source": [
    "image_si2b = Image.fromarray(uint8_perc_norm_si2b)\n",
    "geo_image_si2b = rasterio.open(sanig2_boats_image_path)"
   ]
  },
  {
   "cell_type": "code",
   "execution_count": null,
   "id": "5c8f8d39",
   "metadata": {},
   "outputs": [],
   "source": [
    "info_si2b = get_nonwhale_bbox_info(sanig2_boats_box_path, image_si2b, geo_image_si2b)"
   ]
  },
  {
   "cell_type": "code",
   "execution_count": null,
   "id": "70b34855",
   "metadata": {},
   "outputs": [],
   "source": [
    "file_save_path = \"/gws/nopw/j04/ai4er/users/kmgreen/data/yolo_boats/test/images\""
   ]
  },
  {
   "cell_type": "code",
   "execution_count": null,
   "id": "65bd0e24",
   "metadata": {},
   "outputs": [],
   "source": [
    "save_files(image_si2b, info_si2b, file_save_path, 'sanig2_neg')"
   ]
  },
  {
   "cell_type": "code",
   "execution_count": null,
   "id": "edeb75cf",
   "metadata": {},
   "outputs": [],
   "source": []
  }
 ],
 "metadata": {
  "kernelspec": {
   "display_name": "Python 3",
   "language": "python",
   "name": "python3"
  },
  "language_info": {
   "codemirror_mode": {
    "name": "ipython",
    "version": 3
   },
   "file_extension": ".py",
   "mimetype": "text/x-python",
   "name": "python",
   "nbconvert_exporter": "python",
   "pygments_lexer": "ipython3",
   "version": "3.8.8"
  }
 },
 "nbformat": 4,
 "nbformat_minor": 5
}
