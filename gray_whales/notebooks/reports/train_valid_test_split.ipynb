{
 "cells": [
  {
   "cell_type": "code",
   "execution_count": 4,
   "id": "6610deb1",
   "metadata": {},
   "outputs": [],
   "source": [
    "import shutil\n",
    "import glob"
   ]
  },
  {
   "cell_type": "code",
   "execution_count": 5,
   "id": "adb8e061",
   "metadata": {},
   "outputs": [],
   "source": [
    "import splitfolders"
   ]
  },
  {
   "cell_type": "code",
   "execution_count": 3,
   "id": "e72b830c",
   "metadata": {},
   "outputs": [],
   "source": [
    "input_path = \"/gws/nopw/j04/ai4er/users/kmgreen/data/Publication_data/satellite_images\"\n",
    "output_path = \"/gws/nopw/j04/ai4er/users/kmgreen/data/Publication_data/pub_splitdata_classes\""
   ]
  },
  {
   "cell_type": "code",
   "execution_count": 4,
   "id": "60555d76",
   "metadata": {},
   "outputs": [],
   "source": [
    "#splitfolders.ratio(input_path, output=output_path, seed=1337, ratio=(.7, .15, .15), group_prefix=2)"
   ]
  },
  {
   "cell_type": "code",
   "execution_count": 8,
   "id": "c8bdf4f3",
   "metadata": {},
   "outputs": [],
   "source": [
    "dest_dir = '/gws/nopw/j04/ai4er/users/kmgreen/data/Publication_data/pub_dataset_noliebre15/test/labels'"
   ]
  },
  {
   "cell_type": "code",
   "execution_count": 9,
   "id": "16d64c7a",
   "metadata": {},
   "outputs": [
    {
     "name": "stdout",
     "output_type": "stream",
     "text": [
      "/gws/nopw/j04/ai4er/users/kmgreen/data/Publication_data/pub_dataset_noliebre15/test/liebre13_14.txt\n",
      "/gws/nopw/j04/ai4er/users/kmgreen/data/Publication_data/pub_dataset_noliebre15/test/liebre13_16.txt\n",
      "/gws/nopw/j04/ai4er/users/kmgreen/data/Publication_data/pub_dataset_noliebre15/test/liebre13_17.txt\n",
      "/gws/nopw/j04/ai4er/users/kmgreen/data/Publication_data/pub_dataset_noliebre15/test/liebre13_29.txt\n",
      "/gws/nopw/j04/ai4er/users/kmgreen/data/Publication_data/pub_dataset_noliebre15/test/liebre13_33.txt\n",
      "/gws/nopw/j04/ai4er/users/kmgreen/data/Publication_data/pub_dataset_noliebre15/test/liebre13_39.txt\n",
      "/gws/nopw/j04/ai4er/users/kmgreen/data/Publication_data/pub_dataset_noliebre15/test/liebre13_4.txt\n",
      "/gws/nopw/j04/ai4er/users/kmgreen/data/Publication_data/pub_dataset_noliebre15/test/liebre13_5.txt\n",
      "/gws/nopw/j04/ai4er/users/kmgreen/data/Publication_data/pub_dataset_noliebre15/test/sanig1_11.txt\n",
      "/gws/nopw/j04/ai4er/users/kmgreen/data/Publication_data/pub_dataset_noliebre15/test/sanig1_24.txt\n",
      "/gws/nopw/j04/ai4er/users/kmgreen/data/Publication_data/pub_dataset_noliebre15/test/sanig1_27.txt\n",
      "/gws/nopw/j04/ai4er/users/kmgreen/data/Publication_data/pub_dataset_noliebre15/test/sanig1_28.txt\n",
      "/gws/nopw/j04/ai4er/users/kmgreen/data/Publication_data/pub_dataset_noliebre15/test/sanig1_49.txt\n",
      "/gws/nopw/j04/ai4er/users/kmgreen/data/Publication_data/pub_dataset_noliebre15/test/sanig1_boats_11.txt\n",
      "/gws/nopw/j04/ai4er/users/kmgreen/data/Publication_data/pub_dataset_noliebre15/test/sanig1_boats_23.txt\n",
      "/gws/nopw/j04/ai4er/users/kmgreen/data/Publication_data/pub_dataset_noliebre15/test/sanig1_boats_26.txt\n",
      "/gws/nopw/j04/ai4er/users/kmgreen/data/Publication_data/pub_dataset_noliebre15/test/sanig1_boats_3.txt\n",
      "/gws/nopw/j04/ai4er/users/kmgreen/data/Publication_data/pub_dataset_noliebre15/test/sanig1_boats_32.txt\n",
      "/gws/nopw/j04/ai4er/users/kmgreen/data/Publication_data/pub_dataset_noliebre15/test/sanig1_boats_33.txt\n",
      "/gws/nopw/j04/ai4er/users/kmgreen/data/Publication_data/pub_dataset_noliebre15/test/sanig2_13.txt\n",
      "/gws/nopw/j04/ai4er/users/kmgreen/data/Publication_data/pub_dataset_noliebre15/test/sanig2_16.txt\n",
      "/gws/nopw/j04/ai4er/users/kmgreen/data/Publication_data/pub_dataset_noliebre15/test/sanig2_17.txt\n",
      "/gws/nopw/j04/ai4er/users/kmgreen/data/Publication_data/pub_dataset_noliebre15/test/sanig2_23.txt\n",
      "/gws/nopw/j04/ai4er/users/kmgreen/data/Publication_data/pub_dataset_noliebre15/test/sanig2_28.txt\n",
      "/gws/nopw/j04/ai4er/users/kmgreen/data/Publication_data/pub_dataset_noliebre15/test/sanig2_34.txt\n",
      "/gws/nopw/j04/ai4er/users/kmgreen/data/Publication_data/pub_dataset_noliebre15/test/sanig2_36.txt\n",
      "/gws/nopw/j04/ai4er/users/kmgreen/data/Publication_data/pub_dataset_noliebre15/test/sanig2_40.txt\n",
      "/gws/nopw/j04/ai4er/users/kmgreen/data/Publication_data/pub_dataset_noliebre15/test/sanig2_48.txt\n",
      "/gws/nopw/j04/ai4er/users/kmgreen/data/Publication_data/pub_dataset_noliebre15/test/sanig2_9.txt\n",
      "/gws/nopw/j04/ai4er/users/kmgreen/data/Publication_data/pub_dataset_noliebre15/test/sanig2_boats_19.txt\n",
      "/gws/nopw/j04/ai4er/users/kmgreen/data/Publication_data/pub_dataset_noliebre15/test/sanig2_boats_23.txt\n",
      "/gws/nopw/j04/ai4er/users/kmgreen/data/Publication_data/pub_dataset_noliebre15/test/sanig2_boats_24.txt\n",
      "/gws/nopw/j04/ai4er/users/kmgreen/data/Publication_data/pub_dataset_noliebre15/test/sanig2_boats_5.txt\n",
      "/gws/nopw/j04/ai4er/users/kmgreen/data/Publication_data/pub_dataset_noliebre15/test/sanig2_boats_6.txt\n",
      "/gws/nopw/j04/ai4er/users/kmgreen/data/Publication_data/pub_dataset_noliebre15/test/sanig2_boats_7.txt\n"
     ]
    }
   ],
   "source": [
    "for file in glob.glob('/gws/nopw/j04/ai4er/users/kmgreen/data/Publication_data/pub_dataset_noliebre15/test/*.txt'):#{}'.format(ext)):\n",
    "    print(file)\n",
    "    shutil.move(file,dest_dir)"
   ]
  },
  {
   "cell_type": "code",
   "execution_count": 34,
   "id": "a59688a0",
   "metadata": {},
   "outputs": [
    {
     "name": "stdout",
     "output_type": "stream",
     "text": [
      "198\n"
     ]
    }
   ],
   "source": [
    "number = []\n",
    "\n",
    "for file in glob.glob('/gws/nopw/j04/ai4er/users/kmgreen/data/Publication_data/pub_dataset_final/train/labels/liebre15*.txt'):\n",
    "    with open(file,'r') as f:\n",
    "        label = f.read()\n",
    "        items = label.splitlines()\n",
    "        #print(items)\n",
    "        for i in items:\n",
    "            #index = i[0]\n",
    "            #print(i)\n",
    "            if items[0][0] == '0':\n",
    "                number.append(1)\n",
    "                \n",
    "                \n",
    "print(len(number))"
   ]
  },
  {
   "cell_type": "code",
   "execution_count": 13,
   "id": "b960346a",
   "metadata": {},
   "outputs": [
    {
     "name": "stdout",
     "output_type": "stream",
     "text": [
      "83\n"
     ]
    }
   ],
   "source": [
    "number_images=[]\n",
    "\n",
    "for file in glob.glob('/gws/nopw/j04/ai4er/users/kmgreen/data/Publication_data/satellite_images/class2/*.txt'):\n",
    "    number_images.append(1)\n",
    "    \n",
    "print(len(number_images))\n",
    "        "
   ]
  },
  {
   "cell_type": "code",
   "execution_count": null,
   "id": "f24caa58",
   "metadata": {},
   "outputs": [],
   "source": []
  }
 ],
 "metadata": {
  "interpreter": {
   "hash": "91e8758869e87668cbec92e61844a6033cceb3bd649038ccbefffdd933a5e312"
  },
  "kernelspec": {
   "display_name": "Python 3",
   "language": "python",
   "name": "python3"
  },
  "language_info": {
   "codemirror_mode": {
    "name": "ipython",
    "version": 3
   },
   "file_extension": ".py",
   "mimetype": "text/x-python",
   "name": "python",
   "nbconvert_exporter": "python",
   "pygments_lexer": "ipython3",
   "version": "3.8.8"
  }
 },
 "nbformat": 4,
 "nbformat_minor": 5
}
